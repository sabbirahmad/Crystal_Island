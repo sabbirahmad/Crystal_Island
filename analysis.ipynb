{
 "cells": [
  {
   "cell_type": "code",
   "execution_count": 16,
   "metadata": {},
   "outputs": [],
   "source": [
    "import os\n",
    "import pandas as pd"
   ]
  },
  {
   "cell_type": "code",
   "execution_count": 381,
   "metadata": {},
   "outputs": [],
   "source": [
    "locations = set()\n",
    "dialogue_text_options = set()\n",
    "dialogue_npc_utterance = set()\n",
    "dialogues = []"
   ]
  },
  {
   "cell_type": "code",
   "execution_count": 382,
   "metadata": {},
   "outputs": [],
   "source": [
    "def get_dialogues(data):\n",
    "    \n",
    "    current_location = 'Null'\n",
    "    current_talk = ''\n",
    "    current_dialogue = ''\n",
    "    for row in data:\n",
    "        flag = False\n",
    "        \n",
    "        attribs = row.split('\\n')[0]\n",
    "        attribs = attribs.split('|')\n",
    "        if attribs[0] == 'MOVE':\n",
    "            for attrib in attribs:\n",
    "                if 'cur-loc-' in attrib:\n",
    "                    current_location = attrib.split('cur-loc-')[1]\n",
    "        \n",
    "        if attribs[0] == 'TALK':\n",
    "            current_talk = attribs[3].split('cur-action-')[1]\n",
    "            \n",
    "            for row in data:\n",
    "                attribs = row.split('\\n')[0]\n",
    "                attribs = attribs.split('|')\n",
    "                \n",
    "                if attribs[0] != 'DIALOG' and attribs[0] != 'PDAUSE' and flag == True:\n",
    "                    break\n",
    "                \n",
    "                if attribs[0] != 'DIALOG':\n",
    "                    continue\n",
    "                \n",
    "                flag = True\n",
    "                if len(attribs) < 6:\n",
    "                    current_dialogue += ('NPC: ' + attribs[-1] + '\\n')\n",
    "#                     print(attribs)\n",
    "                else:\n",
    "                    current_dialogue += ('PLR: ' + attribs[-1] + '\\n')\n",
    "#                     print(attribs)\n",
    "                \n",
    "            dialogues.add('Location: ' + current_location +', ' + 'Talk: ' + current_talk +'\\n\\n' + current_dialogue)\n",
    "            current_dialogue = ''"
   ]
  },
  {
   "cell_type": "code",
   "execution_count": 383,
   "metadata": {},
   "outputs": [],
   "source": [
    "def process_single_data_file(data):\n",
    "    i = 0\n",
    "    current_location = 'Null'\n",
    "    for row in data:\n",
    "        i += 1\n",
    "        attribs = row.split('\\n')[0]\n",
    "        attribs = attribs.split('|')\n",
    "        if attribs[0] == 'MOVE':\n",
    "            for attrib in attribs:\n",
    "                if 'prev-loc-' in attrib:\n",
    "                    locations.add(attrib.split('prev-loc-')[1])\n",
    "                if 'cur-loc-' in attrib:\n",
    "                    current_location = attrib.split('cur-loc-')[1]\n",
    "                    locations.add(attrib.split('cur-loc-')[1])\n",
    "        \n",
    "        if attribs[0] == 'DIALOG':\n",
    "            if len(attribs) < 6:\n",
    "                dialogue_npc_utterance.add(current_location +': '+ attribs[-1])\n",
    "#                 dialogue_npc_utterance.add(attribs[-1])                \n",
    "            else:\n",
    "                dialogue_text_options.add(current_location +': '+ attribs[-1])\n",
    "#                 dialogue_text_options.add(attribs[-1])\n",
    "        "
   ]
  },
  {
   "cell_type": "code",
   "execution_count": 20,
   "metadata": {},
   "outputs": [],
   "source": [
    "def file_name_extension(fname):\n",
    "    name_ext = fname.rsplit('.', 1)\n",
    "    return name_ext[0], name_ext[1]"
   ]
  },
  {
   "cell_type": "code",
   "execution_count": 385,
   "metadata": {},
   "outputs": [],
   "source": [
    "def process_files(in_dir):\n",
    "    file_count = 1\n",
    "    for root, dirs, files in os.walk(in_dir):\n",
    "        for file in files:\n",
    "            fname, ext = file_name_extension(file)\n",
    "            if ext == 'log' and '.' not in fname:\n",
    "#                 print(file_count, ': ', os.path.join(root, file))\n",
    "                with open(os.path.join(root, file), 'r') as data_file:\n",
    "#                     process_single_data_file(data_file)\n",
    "                    get_dialogues(data_file)\n",
    "                    \n",
    "            \n",
    "                file_count += 1\n",
    "#                 raise KeyboardInterrupt\n"
   ]
  },
  {
   "cell_type": "code",
   "execution_count": 386,
   "metadata": {},
   "outputs": [],
   "source": [
    "locations = set()\n",
    "dialogue_text_options = set()\n",
    "dialogue_npc_utterance = set()\n",
    "dialogues = set()\n",
    "\n",
    "in_dir = './data/goal_recognition/Interaction Logs/'\n",
    "# in_dir = './data/goal_recognition/test/'\n",
    "process_files(in_dir)"
   ]
  },
  {
   "cell_type": "code",
   "execution_count": 387,
   "metadata": {},
   "outputs": [
    {
     "data": {
      "text/plain": [
       "562"
      ]
     },
     "execution_count": 387,
     "metadata": {},
     "output_type": "execute_result"
    }
   ],
   "source": [
    "len(dialogues)"
   ]
  },
  {
   "cell_type": "code",
   "execution_count": 390,
   "metadata": {},
   "outputs": [
    {
     "name": "stdout",
     "output_type": "stream",
     "text": [
      "Location: infirmary-kim, Talk: talk-teresa\n",
      "\n",
      "NPC: Uhhh, I think I ate something bad.\n",
      "PLR: Can I ask about your illness?\n",
      "NPC: Okay, but please be quick.\n",
      "PLR: Nevermind.\n",
      "PLR: I should get going.\n",
      "NPC: Bye\n",
      "PLR: Bye.\n",
      "\n",
      "--------------------------------------------------\n",
      "Location: infirmary-kim, Talk: talk-kim\n",
      "\n",
      "NPC: Hey.\n",
      "PLR: How can I help?\n",
      "NPC: You can gather clues by talking to other team members, exploring the camp, and using the laboratory's testing equipment.   Use the W key to complete a diagnosis worksheet, then come talk to me once you have finished.\n",
      "PLR: What do you know so far?\n",
      "NPC: The illness spread through the camp a couple days ago.   So far, all we know is that it's either a pathogen, a mutagen, or a carcinogen.\n",
      "PLR: Nevermind.\n",
      "PLR: I should get going.\n",
      "NPC: Come back when you have a diagnosis!\n",
      "PLR: Bye.\n",
      "\n",
      "--------------------------------------------------\n"
     ]
    }
   ],
   "source": [
    "i = 0\n",
    "for d in dialogues:\n",
    "    print(d)\n",
    "    i += 1\n",
    "    print('--------------------------------------------------')\n",
    "    if i == 2:\n",
    "        break"
   ]
  },
  {
   "cell_type": "code",
   "execution_count": 395,
   "metadata": {},
   "outputs": [],
   "source": [
    "out_file = './data/goal_recognition/test/conversation.txt'\n",
    "with open(out_file, 'w') as wfile:\n",
    "    for d in dialogues:\n",
    "        wfile.write(d)\n",
    "        wfile.write('--------------------------------------------------\\n\\n')"
   ]
  },
  {
   "cell_type": "code",
   "execution_count": 17,
   "metadata": {},
   "outputs": [],
   "source": [
    "def check_file_goal(data):\n",
    "    goal_count = 0\n",
    "    for row in data:\n",
    "        if 'GOALCOMPLETE' in row:\n",
    "            goal_count += 1\n",
    "    \n",
    "    return goal_count"
   ]
  },
  {
   "cell_type": "code",
   "execution_count": 35,
   "metadata": {},
   "outputs": [],
   "source": [
    "def select_files(in_dir):\n",
    "    goal_count = []\n",
    "    file_count = 1\n",
    "    for root, dirs, files in os.walk(in_dir):\n",
    "        for file in files:\n",
    "            fname, ext = file_name_extension(file)\n",
    "            if ext == 'log' and '.' not in fname:\n",
    "                with open(os.path.join(root, file), 'r') as data_file:\n",
    "                    gc = check_file_goal(data_file)\n",
    "                    goal_count.append((file, gc))\n",
    "            \n",
    "                file_count += 1\n",
    "    \n",
    "    return goal_count"
   ]
  },
  {
   "cell_type": "code",
   "execution_count": 46,
   "metadata": {},
   "outputs": [],
   "source": [
    "in_dir = './data/goal_recognition/Interaction Logs/'\n",
    "goal_count = select_files(in_dir)"
   ]
  },
  {
   "cell_type": "code",
   "execution_count": 47,
   "metadata": {},
   "outputs": [],
   "source": [
    "# goal_count"
   ]
  },
  {
   "cell_type": "code",
   "execution_count": 48,
   "metadata": {},
   "outputs": [],
   "source": [
    "goal_count_sorted = sorted(goal_count, key=lambda t: t[1], reverse=True)"
   ]
  },
  {
   "cell_type": "code",
   "execution_count": 49,
   "metadata": {},
   "outputs": [],
   "source": [
    "from shutil import copy"
   ]
  },
  {
   "cell_type": "code",
   "execution_count": 50,
   "metadata": {},
   "outputs": [],
   "source": [
    "i = 0\n",
    "file_limit = 20\n",
    "in_dir = './data/goal_recognition/Interaction Logs/'\n",
    "out_dir = './data/goal_recognition/selected_data/'\n",
    "for f in goal_count_sorted:\n",
    "    file = f[0]\n",
    "    copy(os.path.join(in_dir, file), out_dir)\n",
    "    if i == file_limit:\n",
    "        break\n",
    "    i += 1"
   ]
  },
  {
   "cell_type": "code",
   "execution_count": 51,
   "metadata": {},
   "outputs": [
    {
     "data": {
      "text/plain": [
       "[('Session2-StationK_1.log', 7),\n",
       " ('Session4-StationJJ_1.log', 7),\n",
       " ('Session1-StationS_1.log', 7),\n",
       " ('Session2-StationRR_1.log', 7),\n",
       " ('Session3-StationV_1.log', 7),\n",
       " ('Session2-StationAA_1.log', 7),\n",
       " ('Session3-StationHH_1.log', 7),\n",
       " ('Session4-StationP_1.log', 7),\n",
       " ('Session2-StationLL_1.log', 7),\n",
       " ('Session2-StationCC_1.log', 7),\n",
       " ('Session1-StationKK_1.log', 7),\n",
       " ('Session3-StationK_1.log', 7),\n",
       " ('Session4-StationTT_1.log', 7),\n",
       " ('Session3-StationJJ_1.log', 7),\n",
       " ('Session2-StationS_1.log', 7),\n",
       " ('Session3-StationW_1.log', 7),\n",
       " ('Session3-StationLL_1.log', 7),\n",
       " ('Session4-StationRR_1.log', 7),\n",
       " ('Session3-StationPP_1.log', 7),\n",
       " ('Session2-StationQ_1.log', 7),\n",
       " ('Session2-StationGG_1.log', 7),\n",
       " ('Session1-StationOO_1.log', 7),\n",
       " ('Session3-StationJ_1.log', 7),\n",
       " ('Session4-StationS_1.log', 7),\n",
       " ('Session1-StationSS_1.log', 7),\n",
       " ('Session2-StationW_1.log', 7),\n",
       " ('Session3-StationS_1.log', 7),\n",
       " ('Session2-StationL_1.log', 7),\n",
       " ('Session2-StationDD_1.log', 7),\n",
       " ('Session1-StationX_1.log', 7),\n",
       " ('Session3-StationD_1.log', 7),\n",
       " ('Session1-StationLL_2.log', 7),\n",
       " ('Session3-StationQQ_1.log', 7),\n",
       " ('Session2-StationB_1.log', 7),\n",
       " ('Session1-StationRR_1.log', 7),\n",
       " ('Session1-StationTT_1.log', 7),\n",
       " ('Session4-StationKK_1.log', 7),\n",
       " ('Session2-StationZ_1.log', 7),\n",
       " ('Session1-StationHH_1.log', 7),\n",
       " ('Session1-StationB_1.log', 7),\n",
       " ('Session2-StationSS_1.log', 7),\n",
       " ('Session4-StationC_1.log', 7),\n",
       " ('Session2-StationE_1.log', 7),\n",
       " ('Session1-StationVV_1.log', 7),\n",
       " ('Session2-StationQQ_1.log', 7),\n",
       " ('Session3-StationC_1.log', 7),\n",
       " ('Session2-StationG_1.log', 7),\n",
       " ('Session4-StationA_1.log', 7),\n",
       " ('Session1-StationJJ_1.log', 7),\n",
       " ('Session1-StationUU_1.log', 6),\n",
       " ('Session4-StationEE_1.log', 6),\n",
       " ('Session4-StationVV_1.log', 6),\n",
       " ('Session4-StationT_1.log', 6),\n",
       " ('Session2-StationO_1.log', 6),\n",
       " ('Session3-StationP_1.log', 6),\n",
       " ('Session1-StationDD_2.log', 6),\n",
       " ('Session4-StationGG_1.log', 6),\n",
       " ('Session3-StationL_1.log', 6),\n",
       " ('Session1-StationP_1.log', 6),\n",
       " ('Session1-StationK_1.log', 6),\n",
       " ('Session2-StationEE_1.log', 6),\n",
       " ('Session4-StationN_1.log', 6),\n",
       " ('Session1-StationBB_1.log', 6),\n",
       " ('Session3-StationCC_1.log', 6),\n",
       " ('Session1-StationI_1.log', 6),\n",
       " ('Session2-StationJ_1.log', 6),\n",
       " ('Session1-StationQQ_1.log', 6),\n",
       " ('Session1-StationM_1.log', 6),\n",
       " ('Session1-StationV_1.log', 6),\n",
       " ('Session3-StationQ_1.log', 6),\n",
       " ('Session2-StationN_1.log', 6),\n",
       " ('Session2-StationTT_1.log', 6),\n",
       " ('Session4-StationPP_2.log', 6),\n",
       " ('Session2-StationHH_1.log', 6),\n",
       " ('Session1-StationO_1.log', 6),\n",
       " ('Session4-StationSS_1.log', 6),\n",
       " ('Session1-StationPP_1.log', 6),\n",
       " ('Session3-StationBB_1.log', 6),\n",
       " ('Session2-StationKK_1.log', 6),\n",
       " ('Session2-StationF_1.log', 6),\n",
       " ('Session4-StationBB_1.log', 6),\n",
       " ('Session1-StationAA_1.log', 6),\n",
       " ('Session2-StationD_1.log', 6),\n",
       " ('Session3-StationG_1.log', 6),\n",
       " ('Session1-StationY_1.log', 6),\n",
       " ('Session1-StationEE_1.log', 6),\n",
       " ('Session3-StationDD_1.log', 6),\n",
       " ('Session1-StationF_1.log', 6),\n",
       " ('Session4-StationII_1.log', 6),\n",
       " ('Session4-StationV_1.log', 5),\n",
       " ('Session3-StationT_1.log', 5),\n",
       " ('Session2-StationP_1.log', 5),\n",
       " ('Session1-StationJ_1.log', 5),\n",
       " ('Session2-StationO_2.log', 5),\n",
       " ('Session3-StationP_2.log', 5),\n",
       " ('Session3-StationEE_1.log', 5),\n",
       " ('Session1-StationN_1.log', 5),\n",
       " ('Session2-StationM_1.log', 5),\n",
       " ('Session1-StationL_1.log', 5),\n",
       " ('Session3-StationI_2.log', 5),\n",
       " ('Session2-StationPP_1.log', 5),\n",
       " ('Session2-StationJ_2.log', 5),\n",
       " ('Session3-StationU_2.log', 5),\n",
       " ('Session3-StationN_1.log', 5),\n",
       " ('Session4-StationPP_1.log', 5),\n",
       " ('Session2-StationU_1.log', 5),\n",
       " ('Session3-StationRR_1.log', 5),\n",
       " ('Session4-StationJ_1.log', 5),\n",
       " ('Session4-StationQ_1.log', 5),\n",
       " ('Session1-StationC_1.log', 5),\n",
       " ('Session3-StationMM_1.log', 5),\n",
       " ('Session4-StationF_1.log', 5),\n",
       " ('Session4-StationD_1.log', 5),\n",
       " ('Session3-StationB_1.log', 5),\n",
       " ('Session2-StationUU_1.log', 5),\n",
       " ('Session1-StationE_1.log', 5),\n",
       " ('Session2-StationII_1.log', 5),\n",
       " ('Session1-StationG_1.log', 5),\n",
       " ('Session2-StationOO_1.log', 5),\n",
       " ('Session1-StationGG_1.log', 5),\n",
       " ('Session2-StationC_1.log', 5),\n",
       " ('Session2-StationX_1.log', 5),\n",
       " ('Session2-StationA_1.log', 5),\n",
       " ('Session3-StationE_1.log', 5),\n",
       " ('Session3-StationA_1.log', 5),\n",
       " ('Session3-StationKK_1.log', 5),\n",
       " ('Session3-StationGG_1.log', 4),\n",
       " ('Session1-StationQ_1.log', 4),\n",
       " ('Session1-StationII_1.log', 4),\n",
       " ('Session3-StationVV_1.log', 4),\n",
       " ('Session3-StationI_1.log', 4),\n",
       " ('Session1-StationDD_1.log', 4),\n",
       " ('Session1-StationW_1.log', 4),\n",
       " ('Session2-StationJJ_1.log', 4),\n",
       " ('Session2-StationEE_2.log', 4),\n",
       " ('Session1-StationO_3.log', 4),\n",
       " ('Session1-StationT_1.log', 4),\n",
       " ('Session2-StationKK_2.log', 4),\n",
       " ('Session1-StationA_2.log', 4),\n",
       " ('Session3-StationF_1.log', 4),\n",
       " ('Session1-StationCC_1.log', 4),\n",
       " ('Session1-StationZ_1.log', 4),\n",
       " ('Session2-StationD_3.log', 4),\n",
       " ('Session2-StationFF_1.log', 4),\n",
       " ('Session3-StationUU_1.log', 4),\n",
       " ('Session4-StationE_1.log', 4),\n",
       " ('Session1-StationD_1.log', 4),\n",
       " ('Session3-StationTT_1.log', 3),\n",
       " ('Session4-StationL_1.log', 3),\n",
       " ('Session1-StationA_1.log', 3),\n",
       " ('Session2-StationA_2.log', 3),\n",
       " ('Session4-StationDD_2.log', 3),\n",
       " ('Session4-StationDD_1.log', 3),\n",
       " ('Session1-StationFF_1.log', 2),\n",
       " ('Session1-StationUU_2.log', 2),\n",
       " ('Session2-StationPP_2.log', 2),\n",
       " ('Session1-StationUU_5.log', 2),\n",
       " ('Session1-StationMM_1.log', 2),\n",
       " ('Session4-StationNN_1.log', 2),\n",
       " ('Session4-StationLL_2.log', 2),\n",
       " ('Session4-StationLL_1.log', 2),\n",
       " ('Session1-StationDD_4.log', 1),\n",
       " ('Session1-StationDD_3.log', 1),\n",
       " ('Session4-StationNN_3.log', 1),\n",
       " ('Session1-StationP_2.log', 1),\n",
       " ('Session1-StationO_2.log', 1),\n",
       " ('Session1-StationPP_2.log', 1),\n",
       " ('Session3-StationA_2.log', 1),\n",
       " ('Session1-StationUU_3.log', 0),\n",
       " ('Session1-StationUU_4.log', 0),\n",
       " ('Session4-StationNN_2.log', 0),\n",
       " ('Session3-StationU_1.log', 0),\n",
       " ('Session1-StationLL_1.log', 0),\n",
       " ('Session2-StationD_2.log', 0),\n",
       " ('Session3-StationSS_1.log', 0)]"
      ]
     },
     "execution_count": 51,
     "metadata": {},
     "output_type": "execute_result"
    }
   ],
   "source": [
    "goal_count_sorted"
   ]
  },
  {
   "cell_type": "markdown",
   "metadata": {},
   "source": [
    "# Random"
   ]
  },
  {
   "cell_type": "code",
   "execution_count": 2,
   "metadata": {},
   "outputs": [],
   "source": [
    "def insertion(N, M, i, j):\n",
    "    mask = ~0\n",
    "    mask = mask<<j\n",
    "    mask = mask + (2**i - 1)\n",
    "    N = mask&N\n",
    "    M = M<<i\n",
    "    return N^M"
   ]
  },
  {
   "cell_type": "code",
   "execution_count": 3,
   "metadata": {},
   "outputs": [
    {
     "name": "stdout",
     "output_type": "stream",
     "text": [
      "0b10001001100\n"
     ]
    }
   ],
   "source": [
    "N = 0b10000000000\n",
    "M = 0b10011\n",
    "i = 2\n",
    "j = 6\n",
    "print(bin(insertion(N, M, i, j)))"
   ]
  },
  {
   "cell_type": "code",
   "execution_count": 5,
   "metadata": {},
   "outputs": [
    {
     "data": {
      "text/plain": [
       "'0.915039'"
      ]
     },
     "execution_count": 5,
     "metadata": {},
     "output_type": "execute_result"
    }
   ],
   "source": [
    "s = 'duration-0.915039'\n",
    "s.split('duration-')[1]"
   ]
  },
  {
   "cell_type": "code",
   "execution_count": 6,
   "metadata": {},
   "outputs": [],
   "source": [
    "z = {'type': 'lesson'}\n",
    "x = {'type': 'slide'}\n",
    "z.update(x)"
   ]
  },
  {
   "cell_type": "code",
   "execution_count": 10,
   "metadata": {},
   "outputs": [
    {
     "data": {
      "text/plain": [
       "'Contaminated with Pathogens'"
      ]
     },
     "execution_count": 10,
     "metadata": {},
     "output_type": "execute_result"
    }
   ],
   "source": [
    "st = 'Hypothesis: Contaminated with Pathogens'\n",
    "st.split(':')[1].strip()"
   ]
  },
  {
   "cell_type": "code",
   "execution_count": null,
   "metadata": {},
   "outputs": [],
   "source": []
  }
 ],
 "metadata": {
  "kernelspec": {
   "display_name": "Python 3",
   "language": "python",
   "name": "python3"
  },
  "language_info": {
   "codemirror_mode": {
    "name": "ipython",
    "version": 3
   },
   "file_extension": ".py",
   "mimetype": "text/x-python",
   "name": "python",
   "nbconvert_exporter": "python",
   "pygments_lexer": "ipython3",
   "version": "3.6.8"
  }
 },
 "nbformat": 4,
 "nbformat_minor": 4
}
