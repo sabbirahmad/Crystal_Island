{
 "cells": [
  {
   "cell_type": "code",
   "execution_count": 380,
   "metadata": {},
   "outputs": [],
   "source": [
    "import os\n",
    "import pandas as pd"
   ]
  },
  {
   "cell_type": "code",
   "execution_count": 381,
   "metadata": {},
   "outputs": [],
   "source": [
    "locations = set()\n",
    "dialogue_text_options = set()\n",
    "dialogue_npc_utterance = set()\n",
    "dialogues = []"
   ]
  },
  {
   "cell_type": "code",
   "execution_count": 382,
   "metadata": {},
   "outputs": [],
   "source": [
    "def get_dialogues(data):\n",
    "    \n",
    "    current_location = 'Null'\n",
    "    current_talk = ''\n",
    "    current_dialogue = ''\n",
    "    for row in data:\n",
    "        flag = False\n",
    "        \n",
    "        attribs = row.split('\\n')[0]\n",
    "        attribs = attribs.split('|')\n",
    "        if attribs[0] == 'MOVE':\n",
    "            for attrib in attribs:\n",
    "                if 'cur-loc-' in attrib:\n",
    "                    current_location = attrib.split('cur-loc-')[1]\n",
    "        \n",
    "        if attribs[0] == 'TALK':\n",
    "            current_talk = attribs[3].split('cur-action-')[1]\n",
    "            \n",
    "            for row in data:\n",
    "                attribs = row.split('\\n')[0]\n",
    "                attribs = attribs.split('|')\n",
    "                \n",
    "                if attribs[0] != 'DIALOG' and attribs[0] != 'PDAUSE' and flag == True:\n",
    "                    break\n",
    "                \n",
    "                if attribs[0] != 'DIALOG':\n",
    "                    continue\n",
    "                \n",
    "                flag = True\n",
    "                if len(attribs) < 6:\n",
    "                    current_dialogue += ('NPC: ' + attribs[-1] + '\\n')\n",
    "#                     print(attribs)\n",
    "                else:\n",
    "                    current_dialogue += ('PLR: ' + attribs[-1] + '\\n')\n",
    "#                     print(attribs)\n",
    "                \n",
    "            dialogues.add('Location: ' + current_location +', ' + 'Talk: ' + current_talk +'\\n\\n' + current_dialogue)\n",
    "            current_dialogue = ''"
   ]
  },
  {
   "cell_type": "code",
   "execution_count": 383,
   "metadata": {},
   "outputs": [],
   "source": [
    "def process_single_data_file(data):\n",
    "    i = 0\n",
    "    current_location = 'Null'\n",
    "    for row in data:\n",
    "        i += 1\n",
    "        attribs = row.split('\\n')[0]\n",
    "        attribs = attribs.split('|')\n",
    "        if attribs[0] == 'MOVE':\n",
    "            for attrib in attribs:\n",
    "                if 'prev-loc-' in attrib:\n",
    "                    locations.add(attrib.split('prev-loc-')[1])\n",
    "                if 'cur-loc-' in attrib:\n",
    "                    current_location = attrib.split('cur-loc-')[1]\n",
    "                    locations.add(attrib.split('cur-loc-')[1])\n",
    "        \n",
    "        if attribs[0] == 'DIALOG':\n",
    "            if len(attribs) < 6:\n",
    "                dialogue_npc_utterance.add(current_location +': '+ attribs[-1])\n",
    "#                 dialogue_npc_utterance.add(attribs[-1])                \n",
    "            else:\n",
    "                dialogue_text_options.add(current_location +': '+ attribs[-1])\n",
    "#                 dialogue_text_options.add(attribs[-1])\n",
    "        "
   ]
  },
  {
   "cell_type": "code",
   "execution_count": 384,
   "metadata": {},
   "outputs": [],
   "source": [
    "def file_name_extension(fname):\n",
    "    name_ext = fname.rsplit('.', 1)\n",
    "    return name_ext[0], name_ext[1]"
   ]
  },
  {
   "cell_type": "code",
   "execution_count": 385,
   "metadata": {},
   "outputs": [],
   "source": [
    "def process_files(in_dir):\n",
    "    file_count = 1\n",
    "    for root, dirs, files in os.walk(in_dir):\n",
    "        for file in files:\n",
    "            fname, ext = file_name_extension(file)\n",
    "            if ext == 'log' and '.' not in fname:\n",
    "#                 print(file_count, ': ', os.path.join(root, file))\n",
    "                with open(os.path.join(root, file), 'r') as data_file:\n",
    "#                     process_single_data_file(data_file)\n",
    "                    get_dialogues(data_file)\n",
    "                    \n",
    "            \n",
    "                file_count += 1\n",
    "#                 raise KeyboardInterrupt\n"
   ]
  },
  {
   "cell_type": "code",
   "execution_count": 386,
   "metadata": {},
   "outputs": [],
   "source": [
    "locations = set()\n",
    "dialogue_text_options = set()\n",
    "dialogue_npc_utterance = set()\n",
    "dialogues = set()\n",
    "\n",
    "in_dir = './data/goal_recognition/Interaction Logs/'\n",
    "# in_dir = './data/goal_recognition/test/'\n",
    "process_files(in_dir)"
   ]
  },
  {
   "cell_type": "code",
   "execution_count": 387,
   "metadata": {},
   "outputs": [
    {
     "data": {
      "text/plain": [
       "562"
      ]
     },
     "execution_count": 387,
     "metadata": {},
     "output_type": "execute_result"
    }
   ],
   "source": [
    "len(dialogues)"
   ]
  },
  {
   "cell_type": "code",
   "execution_count": 390,
   "metadata": {},
   "outputs": [
    {
     "name": "stdout",
     "output_type": "stream",
     "text": [
      "Location: infirmary-kim, Talk: talk-teresa\n",
      "\n",
      "NPC: Uhhh, I think I ate something bad.\n",
      "PLR: Can I ask about your illness?\n",
      "NPC: Okay, but please be quick.\n",
      "PLR: Nevermind.\n",
      "PLR: I should get going.\n",
      "NPC: Bye\n",
      "PLR: Bye.\n",
      "\n",
      "--------------------------------------------------\n",
      "Location: infirmary-kim, Talk: talk-kim\n",
      "\n",
      "NPC: Hey.\n",
      "PLR: How can I help?\n",
      "NPC: You can gather clues by talking to other team members, exploring the camp, and using the laboratory's testing equipment.   Use the W key to complete a diagnosis worksheet, then come talk to me once you have finished.\n",
      "PLR: What do you know so far?\n",
      "NPC: The illness spread through the camp a couple days ago.   So far, all we know is that it's either a pathogen, a mutagen, or a carcinogen.\n",
      "PLR: Nevermind.\n",
      "PLR: I should get going.\n",
      "NPC: Come back when you have a diagnosis!\n",
      "PLR: Bye.\n",
      "\n",
      "--------------------------------------------------\n"
     ]
    }
   ],
   "source": [
    "i = 0\n",
    "for d in dialogues:\n",
    "    print(d)\n",
    "    i += 1\n",
    "    print('--------------------------------------------------')\n",
    "    if i == 2:\n",
    "        break"
   ]
  },
  {
   "cell_type": "code",
   "execution_count": 395,
   "metadata": {},
   "outputs": [],
   "source": [
    "out_file = './data/goal_recognition/test/conversation.txt'\n",
    "with open(out_file, 'w') as wfile:\n",
    "    for d in dialogues:\n",
    "        wfile.write(d)\n",
    "        wfile.write('--------------------------------------------------\\n\\n')"
   ]
  },
  {
   "cell_type": "code",
   "execution_count": null,
   "metadata": {},
   "outputs": [],
   "source": []
  }
 ],
 "metadata": {
  "kernelspec": {
   "display_name": "Python 3",
   "language": "python",
   "name": "python3"
  },
  "language_info": {
   "codemirror_mode": {
    "name": "ipython",
    "version": 3
   },
   "file_extension": ".py",
   "mimetype": "text/x-python",
   "name": "python",
   "nbconvert_exporter": "python",
   "pygments_lexer": "ipython3",
   "version": "3.6.8"
  }
 },
 "nbformat": 4,
 "nbformat_minor": 4
}
