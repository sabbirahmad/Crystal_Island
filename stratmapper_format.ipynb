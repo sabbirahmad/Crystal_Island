{
 "cells": [
  {
   "cell_type": "code",
   "execution_count": 6,
   "metadata": {},
   "outputs": [],
   "source": [
    "import numpy as np\n",
    "import copy\n",
    "import json\n",
    "import os\n",
    "import csv"
   ]
  },
  {
   "cell_type": "code",
   "execution_count": 7,
   "metadata": {},
   "outputs": [],
   "source": [
    "#   {\n",
    "#     \"node_id\": 126,\n",
    "#     \"event_type\": \"set_destination\",\n",
    "#     \"posX\": 45,\n",
    "#     \"posY\": 205,\n",
    "#     \"dest_posX\": 55,\n",
    "#     \"dest_posY\": 205,\n",
    "#     \"unit\": \"T4_P1\",\n",
    "#     \"timestamp\": 11830\n",
    "#   }"
   ]
  },
  {
   "cell_type": "code",
   "execution_count": 8,
   "metadata": {},
   "outputs": [],
   "source": [
    "loc_rand_limit = 30\n",
    "loc_coordinates = {}"
   ]
  },
  {
   "cell_type": "code",
   "execution_count": 9,
   "metadata": {},
   "outputs": [],
   "source": [
    "PLAYER_ID = 1\n",
    "MATCH_ID = 100000"
   ]
  },
  {
   "cell_type": "code",
   "execution_count": 10,
   "metadata": {},
   "outputs": [],
   "source": [
    "ACTIVE_EVENTS = ['PDAUSE', 'WORKSHEET', 'QUIZ', 'PICKUP', 'DROP', 'TESTCOMPUTER', 'TESTOBJECT', \\\n",
    "                'LABELING', 'RETRIEVEITEM', 'STOWITEM', 'BOOKREAD', 'DIALOGUE', 'TALK', 'MOVE']\n",
    "IGNORE_EVENTS = ['OPEN', 'CLOSE', 'SOLUTION', 'GOALCOMPLETE', 'NOTES']"
   ]
  },
  {
   "cell_type": "code",
   "execution_count": 61,
   "metadata": {},
   "outputs": [],
   "source": [
    "event_set = set()"
   ]
  },
  {
   "cell_type": "code",
   "execution_count": 70,
   "metadata": {},
   "outputs": [],
   "source": [
    "NODE_ID = 1\n",
    "MATCH_DATA = []\n",
    "LABELING = []\n",
    "TEST = []\n",
    "QUIZ = []\n",
    "PDA = []\n",
    "WORK = []\n",
    "DIALOGUE = []\n",
    "TIMESTAMP_MIN = 99999999\n",
    "TIMESTAMP_MAX = -1\n",
    "\n",
    "MATCH_CONFIG = []"
   ]
  },
  {
   "cell_type": "code",
   "execution_count": 69,
   "metadata": {},
   "outputs": [],
   "source": [
    "def INITIALIZE():\n",
    "    global NODE_ID, MATCH_DATA, LABELING, TEST, QUIZ, PDA, WORK, DIALOGUE, TIMESTAMP_MAX, TIMESTAMP_MIN\n",
    "    NODE_ID = 1\n",
    "    MATCH_DATA = []\n",
    "    LABELING = []\n",
    "    TEST = []\n",
    "    QUIZ = []\n",
    "    PDA = []\n",
    "    WORK = []\n",
    "    DIALOGUE = []\n",
    "    \n",
    "    TIMESTAMP_MIN = 99999999\n",
    "    TIMESTAMP_MAX = -1"
   ]
  },
  {
   "cell_type": "code",
   "execution_count": 14,
   "metadata": {},
   "outputs": [],
   "source": [
    "def perturb_location(location, event, timestamp):\n",
    "    if event != 'status_update':\n",
    "        x, y = location\n",
    "        x += np.random.randint(-15, 15)\n",
    "        y += np.random.randint(-15, 15)\n",
    "        return (x, y)\n",
    "    \n",
    "    return location"
   ]
  },
  {
   "cell_type": "code",
   "execution_count": 64,
   "metadata": {},
   "outputs": [],
   "source": [
    "def get_timestamp(timestamp):\n",
    "    return int(np.round(float(timestamp)))"
   ]
  },
  {
   "cell_type": "code",
   "execution_count": 72,
   "metadata": {},
   "outputs": [],
   "source": [
    "def set_timestamp_min_max(timestamp):\n",
    "    global TIMESTAMP_MIN, TIMESTAMP_MAX\n",
    "    \n",
    "    if timestamp < TIMESTAMP_MIN:\n",
    "        TIMESTAMP_MIN = timestamp\n",
    "    \n",
    "    if timestamp > TIMESTAMP_MAX:\n",
    "        TIMESTAMP_MAX = timestamp"
   ]
  },
  {
   "cell_type": "code",
   "execution_count": 79,
   "metadata": {},
   "outputs": [],
   "source": [
    "def create_node(event, location, timestamp, additional=None):\n",
    "    global NODE_ID, MATCH_DATA\n",
    "    \n",
    "    loc = perturb_location(location, event, timestamp)\n",
    "    \n",
    "    tstamp = get_timestamp(timestamp)\n",
    "    set_timestamp_min_max(tstamp)\n",
    "    \n",
    "    node = {}\n",
    "    node['node_id'] = NODE_ID\n",
    "    node['event_type'] = event\n",
    "    node['posX'] = loc[0]\n",
    "    node['posY'] = loc[1]\n",
    "    node['unit'] = 'P'+str(PLAYER_ID)\n",
    "    \n",
    "    node['timestamp'] = tstamp\n",
    "    \n",
    "    if additional is not None:\n",
    "        node.update(additional)\n",
    "    \n",
    "    MATCH_DATA.append(node)\n",
    "    \n",
    "    ### add event to event_set\n",
    "    if event not in event_set:\n",
    "        event_set.add(event)\n",
    "    \n",
    "    NODE_ID += 1"
   ]
  },
  {
   "cell_type": "code",
   "execution_count": 16,
   "metadata": {},
   "outputs": [],
   "source": [
    "def get_coordinate(location):\n",
    "    if location in loc_coordinates:\n",
    "        x, y = loc_coordinates[location]\n",
    "        return (int(x), int(y))\n",
    "    \n",
    "    return loc_coordinates['default']"
   ]
  },
  {
   "cell_type": "code",
   "execution_count": 17,
   "metadata": {},
   "outputs": [],
   "source": [
    "def merge_labeling(CL, event):\n",
    "    timestamp = CL[0][1]\n",
    "    loc_xy = CL[0][2]\n",
    "    end_timestamp = CL[-1][1]\n",
    "    l_type = set()\n",
    "    correct = 0\n",
    "    incorrect = 0\n",
    "    for c in CL:\n",
    "        l_type.add(c[3]['type'])\n",
    "        if c[3]['result'] == 'correct':\n",
    "            correct += 1\n",
    "        else:\n",
    "            incorrect += 1\n",
    "    \n",
    "    if len(list(l_type)) == 1:\n",
    "        lt = list(l_type)[0]\n",
    "    \n",
    "    create_node(event, loc_xy, timestamp, {'end_timestamp': end_timestamp, 'type': lt, \n",
    "                                          'correct': correct, 'incorrect': incorrect})"
   ]
  },
  {
   "cell_type": "code",
   "execution_count": 18,
   "metadata": {},
   "outputs": [],
   "source": [
    "def collapse_labeling(CL):\n",
    "    start = 0\n",
    "    end = 1\n",
    "    for i in range(len(CL)-1):\n",
    "        e1, e2 = CL[i], CL[i+1]\n",
    "        if e1[0]+1 != e2[0]:\n",
    "            merge_labeling(CL[start:end], 'labeling')\n",
    "            start = i+1\n",
    "            end = i+2\n",
    "        else:\n",
    "            end += 1\n",
    "\n",
    "    merge_labeling(CL[start:end], 'labeling')"
   ]
  },
  {
   "cell_type": "code",
   "execution_count": 19,
   "metadata": {},
   "outputs": [],
   "source": [
    "def handle_labeling(rowdata, i, loc_xy):\n",
    "    timestamp = rowdata[1]\n",
    "    info = {'type': rowdata[2], 'result': rowdata[-1]}\n",
    "    \n",
    "    LABELING.append((i, timestamp, loc_xy, info))"
   ]
  },
  {
   "cell_type": "code",
   "execution_count": 20,
   "metadata": {},
   "outputs": [],
   "source": [
    "def merge_quiz(CL, event):\n",
    "    timestamp = CL[0][1]\n",
    "    loc_xy = CL[0][2]\n",
    "    end_timestamp = CL[-1][1]\n",
    "    l_type = set()\n",
    "    ques = set()\n",
    "    correct = 0\n",
    "    incorrect = 0\n",
    "    for c in CL:\n",
    "        if c[3] is None or c[3]['type']=='quiz-answer':\n",
    "            continue\n",
    "\n",
    "        typ = c[3]['type'].split('-')[0]\n",
    "        l_type.add(typ)\n",
    "        q = c[3]['type'].split('-')[2]\n",
    "        ques.add(q)\n",
    "        \n",
    "        if c[3]['result'] == 'correct':\n",
    "            correct += 1\n",
    "        else:\n",
    "            incorrect += 1\n",
    "    \n",
    "    lt = None\n",
    "    if len(list(l_type)) == 1:\n",
    "        lt = list(l_type)[0]\n",
    "    \n",
    "    create_node(event, loc_xy, timestamp, {'end_timestamp': end_timestamp, 'type': lt, \n",
    "                                           'question': list(ques),\n",
    "                                           'correct': correct, 'incorrect': incorrect})"
   ]
  },
  {
   "cell_type": "code",
   "execution_count": 21,
   "metadata": {},
   "outputs": [],
   "source": [
    "def collapse_quiz(CL):\n",
    "    start = 0\n",
    "    end = 1\n",
    "    for i in range(len(CL)-1):\n",
    "        e1, e2 = CL[i], CL[i+1]\n",
    "        if e1[0]+1 != e2[0]:\n",
    "            merge_quiz(CL[start:end], 'quiz')\n",
    "            start = i+1\n",
    "            end = i+2\n",
    "        else:\n",
    "            end += 1\n",
    "    merge_quiz(CL[start:end], 'quiz')"
   ]
  },
  {
   "cell_type": "code",
   "execution_count": 22,
   "metadata": {},
   "outputs": [],
   "source": [
    "def handle_quiz(rowdata, i, loc_xy):\n",
    "    timestamp = rowdata[1]\n",
    "    if len(rowdata) > 6:\n",
    "        info = {'type': rowdata[2], 'iteration': rowdata[-3], 'result': rowdata[-2]}\n",
    "    else:\n",
    "        info = None\n",
    "\n",
    "    QUIZ.append((i, timestamp, loc_xy, info))"
   ]
  },
  {
   "cell_type": "code",
   "execution_count": 23,
   "metadata": {},
   "outputs": [],
   "source": [
    "def merge_worksheet(CL, event):\n",
    "    timestamp = CL[0][1]\n",
    "    loc_xy = CL[0][2]\n",
    "    end_timestamp = CL[-1][1]\n",
    "    info = {'end_timestamp': end_timestamp} \n",
    "    \n",
    "    for c in CL:\n",
    "        for key in c[3]:\n",
    "            if key not in info:\n",
    "                info[key] = [c[3][key]]\n",
    "            else:\n",
    "                info[key].append(c[3][key])\n",
    "        \n",
    "    create_node(event, loc_xy, timestamp, info)"
   ]
  },
  {
   "cell_type": "code",
   "execution_count": 24,
   "metadata": {},
   "outputs": [],
   "source": [
    "def collapse_worksheet(CL):\n",
    "    start = 0\n",
    "    end = 1\n",
    "    for i in range(len(CL)-1):\n",
    "        e1, e2 = CL[i], CL[i+1]\n",
    "        if e1[0]+1 != e2[0]:\n",
    "            merge_worksheet(CL[start:end], 'worksheet')\n",
    "            start = i+1\n",
    "            end = i+2\n",
    "        else:\n",
    "            end += 1\n",
    "    merge_worksheet(CL[start:end], 'worksheet')"
   ]
  },
  {
   "cell_type": "code",
   "execution_count": 25,
   "metadata": {},
   "outputs": [],
   "source": [
    "def handle_worksheet(rowdata, i, loc_xy):\n",
    "    timestamp = rowdata[1]\n",
    "    if len(rowdata) < 6:\n",
    "        info = {'type': rowdata[2], 'field': rowdata[-2], 'entry': rowdata[-1]}\n",
    "    else:\n",
    "        info = {'type': rowdata[2]}\n",
    "\n",
    "    WORK.append((i, timestamp, loc_xy, info))"
   ]
  },
  {
   "cell_type": "code",
   "execution_count": 26,
   "metadata": {},
   "outputs": [],
   "source": [
    "def merge_pdause(CL, event):\n",
    "    timestamp = CL[0][1]\n",
    "    loc_xy = CL[0][2]\n",
    "    end_timestamp = CL[-1][1]\n",
    "    use = []\n",
    "    action = []\n",
    "    for c in CL:\n",
    "        use.append(c[3]['use'])\n",
    "        action.append(c[3]['action'])\n",
    "    \n",
    "    create_node(event, loc_xy, timestamp, {'end_timestamp': end_timestamp, 'use': use,  \n",
    "                                           'action': action})"
   ]
  },
  {
   "cell_type": "code",
   "execution_count": 27,
   "metadata": {},
   "outputs": [],
   "source": [
    "def collapse_pdause(CL):\n",
    "    start = 0\n",
    "    end = 1\n",
    "    for i in range(len(CL)-1):\n",
    "        e1, e2 = CL[i], CL[i+1]\n",
    "        if e1[0]+1 != e2[0]:\n",
    "            merge_pdause(CL[start:end], 'pdause')\n",
    "            start = i+1\n",
    "            end = i+2\n",
    "        else:\n",
    "            end += 1\n",
    "\n",
    "    merge_pdause(CL[start:end], 'pdause')"
   ]
  },
  {
   "cell_type": "code",
   "execution_count": 28,
   "metadata": {},
   "outputs": [],
   "source": [
    "def handle_pdause(rowdata, i, loc_xy):\n",
    "    timestamp = rowdata[1]\n",
    "    info = {'use': rowdata[2], 'action': rowdata[3]}\n",
    "    \n",
    "    PDA.append((i, timestamp, loc_xy, info))"
   ]
  },
  {
   "cell_type": "code",
   "execution_count": 29,
   "metadata": {},
   "outputs": [],
   "source": [
    "def merge_test(CL, event):\n",
    "    timestamp = CL[0][1]\n",
    "    loc_xy = CL[0][2]\n",
    "    \n",
    "    info = CL[0][3]\n",
    "    if len(CL) > 1:\n",
    "        info.update(CL[1][3])\n",
    "    else:\n",
    "        info.update({'object': 'Null', 'result': 'Null'})\n",
    "    \n",
    "    create_node(event, loc_xy, timestamp, info)"
   ]
  },
  {
   "cell_type": "code",
   "execution_count": 30,
   "metadata": {},
   "outputs": [],
   "source": [
    "def collapse_test(CL):\n",
    "    i = 0\n",
    "    while(i<len(CL)-1):\n",
    "        e1, e2 = CL[i], CL[i+1]\n",
    "        if e1[0] == 'TESTCOMPUTER' and e2[0] == 'TESTOBJECT':\n",
    "            merge_test(CL[i:i+2], 'test')\n",
    "            i += 1\n",
    "        else:\n",
    "            merge_test(CL[i:i+1], 'test')\n",
    "        i+=1"
   ]
  },
  {
   "cell_type": "code",
   "execution_count": 31,
   "metadata": {},
   "outputs": [],
   "source": [
    "def handle_test(rowdata, i, loc_xy):\n",
    "    timestamp = rowdata[1]\n",
    "    \n",
    "    if rowdata[0] == 'TESTCOMPUTER':\n",
    "        info = {'type': rowdata[2], \n",
    "                'hypothesis': rowdata[3].split(':')[1].strip(),\n",
    "                'reason': rowdata[4].split(':')[1].strip(),\n",
    "                'testremaining': rowdata[-1].split('-')[1].strip()}\n",
    "        \n",
    "        TEST.append(('TESTCOMPUTER', timestamp, loc_xy, info))\n",
    "        \n",
    "    else:\n",
    "        try:\n",
    "            info = {'object': rowdata[2].split('object-')[1].strip(), 'result': rowdata[-1]}\n",
    "        except:\n",
    "            info = {'object': rowdata[2], 'result': rowdata[-1]}\n",
    "        \n",
    "        TEST.append(('TESTOBJECT', timestamp, loc_xy, info))"
   ]
  },
  {
   "cell_type": "code",
   "execution_count": 32,
   "metadata": {},
   "outputs": [],
   "source": [
    "def handle_move(rowdata):\n",
    "    loc = None\n",
    "    timestamp = rowdata[1]\n",
    "    for info in rowdata:\n",
    "        if 'cur-loc-' in info:\n",
    "            loc = info.split('cur-loc-')[1]\n",
    "            loc_xy = get_coordinate(loc)\n",
    "    \n",
    "    create_node('status_update', loc_xy, timestamp)\n",
    "    \n",
    "    return loc_xy"
   ]
  },
  {
   "cell_type": "code",
   "execution_count": 33,
   "metadata": {},
   "outputs": [],
   "source": [
    "def merge_talk(CL, event):\n",
    "    timestamp = CL[0][1]\n",
    "    loc_xy = CL[0][2]\n",
    "    end_timestamp = CL[-1][1]\n",
    "    info = {'end_timestamp': end_timestamp} \n",
    "    \n",
    "    for c in CL:\n",
    "        for key in c[3]:\n",
    "            if key not in info:\n",
    "                info[key] = [c[3][key]]\n",
    "            else:\n",
    "                info[key].append(c[3][key])\n",
    "    \n",
    "    create_node(event, loc_xy, timestamp, info)"
   ]
  },
  {
   "cell_type": "code",
   "execution_count": 34,
   "metadata": {},
   "outputs": [],
   "source": [
    "def collapse_talk(CL):\n",
    "    start = 0\n",
    "    end = 1\n",
    "    for i in range(len(CL)-1):\n",
    "        e1, e2 = CL[i], CL[i+1]\n",
    "        if e1[0]+1 != e2[0]:\n",
    "            merge_talk(CL[start:end], 'dialog')\n",
    "            start = i+1\n",
    "            end = i+2\n",
    "        else:\n",
    "            end += 1\n",
    "\n",
    "    merge_talk(CL[start:end], 'dialog')"
   ]
  },
  {
   "cell_type": "code",
   "execution_count": 35,
   "metadata": {},
   "outputs": [],
   "source": [
    "def handle_talk(rowdata, i, loc_xy):\n",
    "    timestamp = rowdata[1]\n",
    "    if len(rowdata) < 6:\n",
    "        info = {'dialog': rowdata[-2]+': '+rowdata[-1]}\n",
    "    else:\n",
    "        info = {'dialog': 'player: '+rowdata[-1]}\n",
    "\n",
    "    DIALOGUE.append((i, timestamp, loc_xy, info))"
   ]
  },
  {
   "cell_type": "code",
   "execution_count": 36,
   "metadata": {},
   "outputs": [],
   "source": [
    "def handle_bookread(rowdata, loc_xy):\n",
    "    item = None\n",
    "    timestamp = rowdata[1]\n",
    "    item = rowdata[2]\n",
    "    duration = rowdata[5].split('duration-')[1]\n",
    "    \n",
    "    create_node('bookread', loc_xy, timestamp, {'duration': duration, 'item': item})"
   ]
  },
  {
   "cell_type": "code",
   "execution_count": 37,
   "metadata": {},
   "outputs": [],
   "source": [
    "def handle_stowitem(rowdata, loc_xy):\n",
    "    item = None\n",
    "    timestamp = rowdata[1]\n",
    "    item = rowdata[2]\n",
    "    \n",
    "    create_node('stowitem', loc_xy, timestamp, {'item': item})"
   ]
  },
  {
   "cell_type": "code",
   "execution_count": 38,
   "metadata": {},
   "outputs": [],
   "source": [
    "def handle_retrieveitem(rowdata, loc_xy):\n",
    "    item = None\n",
    "    timestamp = rowdata[1]\n",
    "    duration = rowdata[2].split('duration-')[1]\n",
    "    item = rowdata[3]\n",
    "    \n",
    "    create_node('retrieveitem', loc_xy, timestamp, {'duration': duration, 'item': item})"
   ]
  },
  {
   "cell_type": "code",
   "execution_count": 39,
   "metadata": {},
   "outputs": [],
   "source": [
    "def handle_drop(rowdata):\n",
    "    loc = None\n",
    "    item = None\n",
    "    timestamp = rowdata[1]\n",
    "    for info in rowdata:\n",
    "        if 'cur-loc-' in info:\n",
    "            loc = info.split('cur-loc-')[1]\n",
    "            loc_xy = get_coordinate(loc)\n",
    "        \n",
    "        if 'cur-action-drop-' in info:\n",
    "            item = info.split('cur-action-drop-')[1]\n",
    "    \n",
    "    create_node('drop', loc_xy, timestamp, {'item': item})\n",
    "    \n",
    "    return loc_xy"
   ]
  },
  {
   "cell_type": "code",
   "execution_count": 40,
   "metadata": {},
   "outputs": [],
   "source": [
    "def handle_pickup(rowdata):\n",
    "    loc = None\n",
    "    item = None\n",
    "    timestamp = rowdata[1]\n",
    "    for info in rowdata:\n",
    "        if 'cur-loc-' in info:\n",
    "            loc = info.split('cur-loc-')[1]\n",
    "            loc_xy = get_coordinate(loc)\n",
    "        \n",
    "        if 'cur-action-pickup-' in info:\n",
    "            item = info.split('cur-action-pickup-')[1]\n",
    "    \n",
    "    create_node('pickup', loc_xy, timestamp, {'item': item})\n",
    "    \n",
    "    return loc_xy"
   ]
  },
  {
   "cell_type": "code",
   "execution_count": 41,
   "metadata": {},
   "outputs": [],
   "source": [
    "def process_single_data_file(data):\n",
    "    i = 0\n",
    "    current_location = get_coordinate('default')\n",
    "    for row in data:\n",
    "        i += 1\n",
    "        attribs = row.split('\\n')[0]\n",
    "        attribs = attribs.split('|')\n",
    "        \n",
    "        if attribs[0] in IGNORE_EVENTS:\n",
    "            continue\n",
    "            \n",
    "        if attribs[0] == 'MOVE':\n",
    "            current_location = handle_move(attribs)\n",
    "        elif attribs[0] == 'DIALOG':  # also handles dialogue\n",
    "            handle_talk(attribs, i, current_location)\n",
    "        elif attribs[0] == 'BOOKREAD':\n",
    "            handle_bookread(attribs, current_location)\n",
    "        elif attribs[0] == 'STOWITEM':\n",
    "            handle_stowitem(attribs, current_location)\n",
    "        elif attribs[0] == 'RETRIEVEITEM':\n",
    "            handle_retrieveitem(attribs, current_location)\n",
    "        elif attribs[0] == 'LABELING':\n",
    "            handle_labeling(attribs, i, current_location)\n",
    "        elif attribs[0] == 'TESTCOMPUTER' or attribs[0] == 'TESTOBJECT':  # also handles testobject\n",
    "            handle_test(attribs, i, current_location)\n",
    "        elif attribs[0] == 'DROP':\n",
    "            current_location = handle_drop(attribs)\n",
    "        elif attribs[0] == 'PICKUP':\n",
    "            current_location = handle_pickup(attribs)\n",
    "        elif attribs[0] == 'QUIZ':\n",
    "            handle_quiz(attribs, i, current_location)\n",
    "        elif attribs[0] == 'WORKSHEET':\n",
    "            handle_worksheet(attribs, i, current_location)\n",
    "        elif attribs[0] == 'PDAUSE':\n",
    "            handle_pdause(attribs, i, current_location)"
   ]
  },
  {
   "cell_type": "code",
   "execution_count": 42,
   "metadata": {},
   "outputs": [],
   "source": [
    "def file_name_extension(fname):\n",
    "    name_ext = fname.rsplit('.', 1)\n",
    "    return name_ext[0], name_ext[1]"
   ]
  },
  {
   "cell_type": "code",
   "execution_count": 77,
   "metadata": {},
   "outputs": [],
   "source": [
    "def set_match_config(file_name, match_id, player_id, timestamp_range):\n",
    "#     {\n",
    "#       \"name\": \"\",\n",
    "#       \"group\": \"\",\n",
    "#       \"color\": \"#AB0022\"\n",
    "#     }\n",
    "    with open('./data/config_skeleton.json', 'r') as json_config:\n",
    "        config = json.load(json_config)\n",
    "        \n",
    "        config['file_name'] = file_name\n",
    "        config['match_id'] = match_id\n",
    "        config['timestamp_range']['start'] = timestamp_range[0]\n",
    "        config['timestamp_range']['end'] = timestamp_range[1]\n",
    "        unit = {\n",
    "                  \"name\": 'P'+str(player_id),\n",
    "                  \"group\": \"T\",\n",
    "                  \"color\": \"#AB0022\"\n",
    "                }\n",
    "        config['units'] = [unit]\n",
    "        config['load_settings']['selected_units'] = ['P'+str(player_id)]\n",
    "        \n",
    "        MATCH_CONFIG.append(config)"
   ]
  },
  {
   "cell_type": "code",
   "execution_count": 44,
   "metadata": {},
   "outputs": [],
   "source": [
    "def read_location_coordinates(file, set_defalut=False):\n",
    "    if set_defalut:\n",
    "        loc_coordinates['default'] = (2600, 1444)\n",
    "    with open(file, 'r') as data_file:\n",
    "        for row in data_file:\n",
    "            loc_info = row.split('\\n')[0]\n",
    "            loc_info = loc_info.split(' ')\n",
    "            loc_coordinates[loc_info[0]] = (loc_info[1], loc_info[2])"
   ]
  },
  {
   "cell_type": "code",
   "execution_count": 75,
   "metadata": {},
   "outputs": [],
   "source": [
    "def process_files(in_dir, out_dir):\n",
    "    global PLAYER_ID, MATCH_ID, MATCH_CONFIG\n",
    "\n",
    "    MATCH_CONFIG = []\n",
    "    PLAYER_ID = 1\n",
    "    \n",
    "    loc_file = './data/ci_locations.txt'\n",
    "    read_location_coordinates(loc_file, set_defalut=True)\n",
    "    \n",
    "    file_count = 1\n",
    "    for root, dirs, files in os.walk(in_dir):\n",
    "        for file in files:\n",
    "            fname, ext = file_name_extension(file)\n",
    "            if ext == 'log' and '.' not in fname:\n",
    "                INITIALIZE()\n",
    "                print(fname, 'Player ID:', PLAYER_ID)\n",
    "                with open(os.path.join(root, file), 'r') as data_file:\n",
    "                    process_single_data_file(data_file)\n",
    "                    if len (LABELING) != 0: \n",
    "                        collapse_labeling(LABELING)\n",
    "                    if len (TEST) != 0: \n",
    "                        collapse_test(TEST)\n",
    "                    if len (QUIZ) != 0: \n",
    "                        collapse_quiz(QUIZ)\n",
    "                    if len (PDA) != 0: \n",
    "                        collapse_pdause(PDA)\n",
    "                    if len (WORK) != 0: \n",
    "                        collapse_worksheet(WORK)\n",
    "                    if len (DIALOGUE) != 0: \n",
    "                        collapse_talk(DIALOGUE)\n",
    "                    \n",
    "                file_count += 1\n",
    "                \n",
    "                with open(out_dir+'/player_'+str(PLAYER_ID)+'.json', 'w') as json_file:\n",
    "                    json.dump(MATCH_DATA, json_file)\n",
    "                \n",
    "                set_match_config(fname, MATCH_ID, PLAYER_ID, [TIMESTAMP_MIN, TIMESTAMP_MAX])\n",
    "                \n",
    "                PLAYER_ID += 1\n",
    "                MATCH_ID += 1\n",
    "                \n",
    "    with open(out_dir+'match_config.json', 'w') as json_file:\n",
    "        json.dump(MATCH_CONFIG, json_file)"
   ]
  },
  {
   "cell_type": "code",
   "execution_count": 80,
   "metadata": {},
   "outputs": [
    {
     "name": "stdout",
     "output_type": "stream",
     "text": [
      "Session2-StationK_1 Player ID: 1\n",
      "Session4-StationJJ_1 Player ID: 2\n",
      "Session1-StationS_1 Player ID: 3\n",
      "Session2-StationRR_1 Player ID: 4\n",
      "Session3-StationV_1 Player ID: 5\n",
      "Session2-StationAA_1 Player ID: 6\n",
      "Session3-StationHH_1 Player ID: 7\n",
      "Session4-StationP_1 Player ID: 8\n",
      "Session2-StationLL_1 Player ID: 9\n",
      "Session2-StationCC_1 Player ID: 10\n",
      "Session1-StationKK_1 Player ID: 11\n",
      "Session3-StationK_1 Player ID: 12\n",
      "Session4-StationTT_1 Player ID: 13\n",
      "Session3-StationJJ_1 Player ID: 14\n",
      "Session2-StationS_1 Player ID: 15\n",
      "Session3-StationW_1 Player ID: 16\n",
      "Session3-StationLL_1 Player ID: 17\n",
      "Session4-StationRR_1 Player ID: 18\n",
      "Session3-StationPP_1 Player ID: 19\n",
      "Session2-StationQ_1 Player ID: 20\n",
      "Session2-StationGG_1 Player ID: 21\n"
     ]
    }
   ],
   "source": [
    "in_dir = './data/goal_recognition/selected_data/' #Interaction Logs/'\n",
    "out_dir = './data/stratmapper_format/'\n",
    "process_files(in_dir, out_dir)"
   ]
  },
  {
   "cell_type": "code",
   "execution_count": null,
   "metadata": {},
   "outputs": [],
   "source": [
    "loc_coordinates = {}\n",
    "loc_file = './data/ci_locations.txt'\n",
    "read_location_coordinates(loc_file, set_defalut=True)"
   ]
  },
  {
   "cell_type": "code",
   "execution_count": null,
   "metadata": {},
   "outputs": [],
   "source": [
    "def get_distance(c1, c2):\n",
    "    return ((c1[0]-c2[0])**2 + (c1[1]-c2[1])**2)**0.5"
   ]
  },
  {
   "cell_type": "code",
   "execution_count": null,
   "metadata": {},
   "outputs": [],
   "source": [
    "locs = [x for x in loc_coordinates]\n",
    "min_distance = 9999999999\n",
    "for i in range(len(locs)):\n",
    "    for j in range(i+1, len(locs)):\n",
    "        c1 = get_coordinate(locs[i])\n",
    "        c2 = get_coordinate(locs[j])\n",
    "        distance = get_distance(c1, c2)\n",
    "        if distance < min_distance:\n",
    "            min_distance = distance\n",
    "        \n",
    "\n",
    "print(min_distance/2)"
   ]
  },
  {
   "cell_type": "code",
   "execution_count": 63,
   "metadata": {},
   "outputs": [
    {
     "data": {
      "text/plain": [
       "{'bookread',\n",
       " 'dialog',\n",
       " 'drop',\n",
       " 'labeling',\n",
       " 'pdause',\n",
       " 'pickup',\n",
       " 'quiz',\n",
       " 'retrieveitem',\n",
       " 'status_update',\n",
       " 'stowitem',\n",
       " 'test',\n",
       " 'worksheet'}"
      ]
     },
     "execution_count": 63,
     "metadata": {},
     "output_type": "execute_result"
    }
   ],
   "source": [
    "event_set"
   ]
  },
  {
   "cell_type": "code",
   "execution_count": null,
   "metadata": {},
   "outputs": [],
   "source": []
  }
 ],
 "metadata": {
  "kernelspec": {
   "display_name": "Python 3",
   "language": "python",
   "name": "python3"
  },
  "language_info": {
   "codemirror_mode": {
    "name": "ipython",
    "version": 3
   },
   "file_extension": ".py",
   "mimetype": "text/x-python",
   "name": "python",
   "nbconvert_exporter": "python",
   "pygments_lexer": "ipython3",
   "version": "3.6.8"
  }
 },
 "nbformat": 4,
 "nbformat_minor": 4
}
